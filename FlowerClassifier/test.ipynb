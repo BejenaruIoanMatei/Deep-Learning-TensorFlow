{
 "cells": [
  {
   "cell_type": "markdown",
   "metadata": {},
   "source": [
    "### Important\n",
    "- Am modificat ierarhia directoarelor si path-urile nu o sa mai fie corecte\n",
    "- Concret: am creat un director nou FlowerClassifier unde am adaugat toate fisierele ce tineau de acest clasificator si automat trebuie modificate toate caile pentru a putea accesa dataset-ul"
   ]
  },
  {
   "cell_type": "code",
   "execution_count": 2,
   "metadata": {},
   "outputs": [],
   "source": [
    "import os"
   ]
  },
  {
   "cell_type": "code",
   "execution_count": 4,
   "metadata": {},
   "outputs": [
    {
     "name": "stdout",
     "output_type": "stream",
     "text": [
      ".DS_Store\n",
      "daisy\n",
      "rose\n",
      "tulip\n",
      "dandelion\n",
      "sunflower\n"
     ]
    }
   ],
   "source": [
    "data_dir = '../flowers_kaggle/Original/' # Adauga '../' la urmatoarele dupa nevoie\n",
    "\n",
    "for data in os.listdir(data_dir):\n",
    "    print(data)"
   ]
  },
  {
   "cell_type": "code",
   "execution_count": 7,
   "metadata": {},
   "outputs": [],
   "source": [
    "img_exts = ['jpg','jpeg','png']"
   ]
  },
  {
   "cell_type": "code",
   "execution_count": 10,
   "metadata": {},
   "outputs": [
    {
     "name": "stdout",
     "output_type": "stream",
     "text": [
      "flowers_kaggle/Original/daisy - cate imagini - 764\n",
      "flowers_kaggle/Original/rose - cate imagini - 784\n",
      "flowers_kaggle/Original/tulip - cate imagini - 984\n",
      "flowers_kaggle/Original/dandelion - cate imagini - 1052\n",
      "flowers_kaggle/Original/sunflower - cate imagini - 733\n"
     ]
    }
   ],
   "source": [
    "for data in os.listdir(data_dir):\n",
    "    data_path = os.path.join(data_dir,data)\n",
    "    if not os.path.isdir(data_path):\n",
    "        continue\n",
    "    count = 0\n",
    "    for img in os.listdir(data_path):\n",
    "        if img.lower().endswith(('.jpg', '.jpeg', '.png')):\n",
    "            count += 1\n",
    "    print(f'{data_path} - cate imagini - {count}')"
   ]
  },
  {
   "cell_type": "code",
   "execution_count": 11,
   "metadata": {},
   "outputs": [],
   "source": [
    "path_to_validate = 'flowers_kaggle/Validate/'\n",
    "\n",
    "if not os.path.isdir(path_to_validate):\n",
    "    print(\"nu este director\")"
   ]
  },
  {
   "cell_type": "code",
   "execution_count": 17,
   "metadata": {},
   "outputs": [
    {
     "name": "stdout",
     "output_type": "stream",
     "text": [
      "Daisy: (534.8, 114.6, 114.6)\n",
      "Rose: (548.8, 117.6, 117.6)\n",
      "Tulip: (688.8, 147.6, 147.6)\n",
      "Dandelion: (736.4, 157.79999999999998, 157.79999999999998)\n",
      "Sunflower: (513.1, 109.95, 109.95)\n"
     ]
    }
   ],
   "source": [
    "def split(number):\n",
    "    train = number * 0.7\n",
    "    test = number * 0.15\n",
    "    validate = number * 0.15\n",
    "    return train, test, validate\n",
    "\n",
    "daisy_train, daisy_test, daisy_validate = split(764)\n",
    "print(f'Daisy: {daisy_train, daisy_test, daisy_validate}') \n",
    "## Daisy -> 535, 115, 114\n",
    "\n",
    "rose_train, rose_test, rose_validate = split(784)\n",
    "print(f'Rose: {rose_train, rose_test, rose_validate}') \n",
    "## Rose -> 549, 118, 117\n",
    "\n",
    "tulip_train, tulip_test, tulip_validate = split(984)\n",
    "print(f'Tulip: {tulip_train, tulip_test, tulip_validate}')\n",
    "## Tulip -> 689, 148, 147\n",
    "\n",
    "dandelion_train, dandelion_test, dandelion_validate = split(1052)\n",
    "print(f'Dandelion: {dandelion_train, dandelion_test, dandelion_validate}')\n",
    "## Dandelion -> 737, 158, 157\n",
    "\n",
    "sunflower_train, sunflower_test, sunflower_validate = split(733)\n",
    "print(f'Sunflower: {sunflower_train, sunflower_test, sunflower_validate}') \n",
    "## Sunflower -> 514, 110, 109\n"
   ]
  },
  {
   "cell_type": "code",
   "execution_count": null,
   "metadata": {},
   "outputs": [],
   "source": [
    "import os\n",
    "data_dir = 'flowers_kaggle/Original/'\n",
    "\n",
    "for data in os.listdir(data_dir):\n",
    "    print(data)\n",
    "\n",
    "for data in os.listdir(data_dir):\n",
    "    data_path = os.path.join(data_dir,data)\n",
    "    if not os.path.isdir(data_path):\n",
    "        continue\n",
    "    count = 0\n",
    "    for img in os.listdir(data_path):\n",
    "        if img.lower().endswith(('.jpg', '.jpeg', '.png')):\n",
    "            count += 1\n",
    "    print(f'{data_path} - cate imagini - {count}')\n",
    "\n",
    "path_to_validate = 'flowers_kaggle/Validate/'\n",
    "path_to_test = 'flowers_kaggle/Test/'\n",
    "path_to_train = 'flowers_kaggle/Train/'\n",
    "\n",
    "def split(number):\n",
    "    train = number * 0.7\n",
    "    test = number * 0.15\n",
    "    validate = number * 0.15\n",
    "    return train, test, validate\n",
    "\n",
    "daisy_train, daisy_test, daisy_validate = split(764)\n",
    "print(f'Daisy: {daisy_train, daisy_test, daisy_validate}') \n",
    "## Daisy -> 535, 115, 114\n",
    "\n",
    "rose_train, rose_test, rose_validate = split(784)\n",
    "print(f'Rose: {rose_train, rose_test, rose_validate}') \n",
    "## Rose -> 549, 118, 117\n",
    "\n",
    "tulip_train, tulip_test, tulip_validate = split(984)\n",
    "print(f'Tulip: {tulip_train, tulip_test, tulip_validate}')\n",
    "## Tulip -> 689, 148, 147\n",
    "\n",
    "dandelion_train, dandelion_test, dandelion_validate = split(1052)\n",
    "print(f'Dandelion: {dandelion_train, dandelion_test, dandelion_validate}')\n",
    "## Dandelion -> 737, 158, 157\n",
    "\n",
    "sunflower_train, sunflower_test, sunflower_validate = split(733)\n",
    "print(f'Sunflower: {sunflower_train, sunflower_test, sunflower_validate}') \n",
    "## Sunflower -> 514, 110, 109\n"
   ]
  },
  {
   "cell_type": "code",
   "execution_count": 24,
   "metadata": {},
   "outputs": [
    {
     "name": "stdout",
     "output_type": "stream",
     "text": [
      "flowers_kaggle/Train/Daisy contine: 535 imagini\n",
      "flowers_kaggle/Train/Rose contine: 549 imagini\n",
      "flowers_kaggle/Train/Tulip contine: 689 imagini\n",
      "flowers_kaggle/Train/Dandelion contine: 737 imagini\n",
      "flowers_kaggle/Train/Sunflower contine: 514 imagini\n"
     ]
    }
   ],
   "source": [
    "path_to_train = 'flowers_kaggle/Train/'\n",
    "\n",
    "if not os.path.isdir(path_to_train):\n",
    "    print('nu este director')\n",
    "\n",
    "for flower_dir in os.listdir(path_to_train):\n",
    "    flower_dir_path = os.path.join(path_to_train, flower_dir)\n",
    "    if not os.path.isdir(flower_dir_path):\n",
    "        continue\n",
    "    images_count = sum(1 for file in os.listdir(flower_dir_path) if file.lower().endswith(('.jpg','.png','jpeg')))\n",
    "    print(f'{flower_dir_path} contine: {images_count} imagini')"
   ]
  },
  {
   "cell_type": "code",
   "execution_count": null,
   "metadata": {},
   "outputs": [],
   "source": []
  }
 ],
 "metadata": {
  "kernelspec": {
   "display_name": "env",
   "language": "python",
   "name": "python3"
  },
  "language_info": {
   "codemirror_mode": {
    "name": "ipython",
    "version": 3
   },
   "file_extension": ".py",
   "mimetype": "text/x-python",
   "name": "python",
   "nbconvert_exporter": "python",
   "pygments_lexer": "ipython3",
   "version": "3.12.6"
  },
  "orig_nbformat": 4
 },
 "nbformat": 4,
 "nbformat_minor": 2
}
